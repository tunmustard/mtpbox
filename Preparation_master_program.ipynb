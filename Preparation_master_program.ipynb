{
 "cells": [
  {
   "cell_type": "code",
   "execution_count": 2,
   "metadata": {},
   "outputs": [
    {
     "name": "stderr",
     "output_type": "stream",
     "text": [
      "23:27:37: Communication module Sock#1: created\n",
      "23:27:37: Telegram Telegram1001: no communication module set\n",
      "23:27:37: Telegram Telegram1001: with format: >ii1s1s; and variables: int1 int2 text1 text2  - created\n"
     ]
    },
    {
     "data": {
      "text/plain": [
       "3"
      ]
     },
     "execution_count": 2,
     "metadata": {},
     "output_type": "execute_result"
    }
   ],
   "source": [
    "\n",
    "\n",
    "\n",
    "comm_module = CommModuleSocketTcp(\"Sock#1\") \n",
    "my_telegram = Telegram(\">ii1s1s\",'Telegram1001',\"int1 int2 text1 text2\")\n",
    "my_telegram.data.int1 = 2\n",
    "my_telegram.data.int2 = 3\n",
    "my_telegram.data.text1 = b\"s\"\n",
    "my_telegram.set_string_value(\"text2\",\"A\")\n",
    "\n",
    "#my_telegram.data.pic = b\"\\x02\\x02\\x02\\x02\\x02\\x02\\x02\\x02\\x02\\x09\"\n",
    "my_telegram.telegram_pack()\n",
    "\n",
    "test_binary_data = b'\\x00\\x00\\x00\\x02\\x00\\x00\\x00\\x03Q\\x09'\n",
    "my_telegram.telegram_unpack(test_binary_data)\n",
    "my_telegram.data[1]\n",
    "#my_telegram.get_string_value(\"text2\")"
   ]
  },
  {
   "cell_type": "code",
   "execution_count": 10,
   "metadata": {},
   "outputs": [
    {
     "name": "stderr",
     "output_type": "stream",
     "text": [
      "23:51:55: Communication module Sock#1: created\n",
      "23:51:55: Communication module Sock#1: set_partners_filter: new partner filter set: ['10.10.10.10']\n",
      "23:51:55: Communication module Sock#1: start_communication: try to start communication treading\n",
      "23:51:55: Communication module Sock#1: trying to start server\n",
      "23:51:55: Communication module Sock#1: start_communication: communication threading started ok\n",
      "23:51:55: Telegram Telegram1: no communication module set\n",
      "23:51:55: Telegram Telegram1: with format: >i2xi2x10s2x10s; and variables: int1 int2 text1 text3  - created\n",
      "23:51:55: Communication module Sock#1: starting server...\n",
      "23:51:55: Communication module Sock#1: server started\n",
      "23:52:05: Communication module Sock#1: stop_communication: trying to stop threading\n",
      "23:52:05: Communication module Sock#1: server stopped\n",
      "23:52:05: Communication module Sock#1: stop_communication: threading stopped\n"
     ]
    }
   ],
   "source": [
    "from mtpbox import *\n",
    "\n",
    "#initialization of logging\n",
    "format = \"%(asctime)s: %(message)s\"\n",
    "logging.basicConfig(format=format, level=logging.DEBUG,datefmt=\"%H:%M:%S\")\n",
    "\n",
    "###################main control loop######################\n",
    "#recieve data from configured partner\n",
    "#analyze/process recieved\n",
    "#send responce data\n",
    "\n",
    "#if we see partners any other partner - close connection\n",
    "partner_plc_address = \"10.10.10.10\"\n",
    "\n",
    "\n",
    "#main loop\n",
    "if __name__ == \"__main__\":\n",
    "    test_loop_number = 10\n",
    "    \n",
    "    #create server and telegrams\n",
    "    comm_module = CommModuleSocketTcp(\"Sock#1\") \n",
    "    comm_module.set_partners_filter([partner_plc_address])\n",
    "    comm_module.start_communication()\n",
    "    partner_plc_telegram_1 = Telegram(\">i2xi2x10s2x10s\",'Telegram1',\"int1 int2 text1 text3\")\n",
    "    \n",
    "    for loop in range(test_loop_number):\n",
    "        if partner_plc_address in comm_module.partners:\n",
    "            logging.debug(\"Found partner connection\")\n",
    "            data_rcv = comm_module.recieve_data(partner_plc_address)\n",
    "            if data_rcv:\n",
    "                logging.debug(\"Data recived %s\"%data_rcv)\n",
    "            \n",
    "        time.sleep(1)\n",
    "     \n",
    "    #close communication, stop server\n",
    "    comm_module.stop_communication()\n"
   ]
  }
 ],
 "metadata": {
  "kernelspec": {
   "display_name": "Python 3",
   "language": "python",
   "name": "python3"
  },
  "language_info": {
   "codemirror_mode": {
    "name": "ipython",
    "version": 3
   },
   "file_extension": ".py",
   "mimetype": "text/x-python",
   "name": "python",
   "nbconvert_exporter": "python",
   "pygments_lexer": "ipython3",
   "version": "3.6.7"
  }
 },
 "nbformat": 4,
 "nbformat_minor": 2
}
