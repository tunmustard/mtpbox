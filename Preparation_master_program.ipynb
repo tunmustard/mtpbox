{
 "cells": [
  {
   "cell_type": "code",
   "execution_count": 2,
   "metadata": {},
   "outputs": [
    {
     "name": "stderr",
     "output_type": "stream",
     "text": [
      "23:27:37: Communication module Sock#1: created\n",
      "23:27:37: Telegram Telegram1001: no communication module set\n",
      "23:27:37: Telegram Telegram1001: with format: >ii1s1s; and variables: int1 int2 text1 text2  - created\n"
     ]
    },
    {
     "data": {
      "text/plain": [
       "3"
      ]
     },
     "execution_count": 2,
     "metadata": {},
     "output_type": "execute_result"
    }
   ],
   "source": [
    "\n",
    "\n",
    "\n",
    "comm_module = CommModuleSocketTcp(\"Sock#1\") \n",
    "my_telegram = Telegram(\">ii1s1s\",'Telegram1001',\"int1 int2 text1 text2\")\n",
    "my_telegram.data.int1 = 2\n",
    "my_telegram.data.int2 = 3\n",
    "my_telegram.data.text1 = b\"s\"\n",
    "my_telegram.set_string_value(\"text2\",\"A\")\n",
    "\n",
    "#my_telegram.data.pic = b\"\\x02\\x02\\x02\\x02\\x02\\x02\\x02\\x02\\x02\\x09\"\n",
    "my_telegram.telegram_pack()\n",
    "\n",
    "test_binary_data = b'\\x00\\x00\\x00\\x02\\x00\\x00\\x00\\x03Q\\x09'\n",
    "my_telegram.telegram_unpack(test_binary_data)\n",
    "my_telegram.data[1]\n",
    "#my_telegram.get_string_value(\"text2\")"
   ]
  },
  {
   "cell_type": "code",
   "execution_count": 5,
   "metadata": {},
   "outputs": [
    {
     "name": "stderr",
     "output_type": "stream",
     "text": [
      "23:03:20: Communication module Sock#1: created\n",
      "23:03:20: Communication module Sock#1: set_partners_filter: new partner filter set: ['192.168.99.1']\n",
      "23:03:20: Communication module Sock#1: start_communication: try to start communication treading\n",
      "23:03:20: Communication module Sock#1: trying to start server\n",
      "23:03:20: Communication module Sock#1: start_communication: communication threading started ok\n",
      "23:03:20: Telegram Telegram1: no communication module set. NOT USED NOW\n",
      "23:03:20: Telegram Telegram1: with format: >i2xi2x1s2x16s2s; and variables: int1 int2 text1 text2 crlf  - created\n",
      "23:03:20: Communication module Sock#1: starting server...\n",
      "23:03:20: Communication module Sock#1: server started\n",
      "23:03:23: Communication module Sock#1: incoming partner name 192.168.99.1.57400\n",
      "23:03:23: Communication module Sock#1: partner name 192.168.99.1.57400 accepted\n",
      "23:03:23: Master: Partner '192.168.99.1' assigned to '192.168.99.1.57400'\n",
      "23:03:23: Communication module Sock#1: recieve_data: input buffer 192.168.99.1.57400 empty\n",
      "23:03:23: Communication module Sock#1: send_data: data to '192.168.99.1.57400' added to main output buffer\n",
      "23:03:23: Communication module Sock#1: send_data: data to '192.168.99.1.57400' added to main output buffer\n",
      "23:03:23: Communication module Sock#1: checking main output buffer\n",
      "23:03:23: Communication module Sock#1: found data for 192.168.99.1.57400\n",
      "23:03:23: Communication module Sock#1: checking main output buffer\n",
      "23:03:23: Communication module Sock#1: found data for 192.168.99.1.57400\n",
      "23:03:23: Communication module Sock#1: connection 192.168.99.1.57400: data sent\n",
      "23:03:23: Communication module Sock#1: connection 192.168.99.1.57400: data sent\n",
      "23:03:24: Communication module Sock#1: recieve_data: input buffer 192.168.99.1.57400 empty\n",
      "23:03:24: Communication module Sock#1: send_data: data to '192.168.99.1.57400' added to main output buffer\n",
      "23:03:24: Communication module Sock#1: send_data: data to '192.168.99.1.57400' added to main output buffer\n",
      "23:03:24: Communication module Sock#1: checking main output buffer\n",
      "23:03:24: Communication module Sock#1: found data for 192.168.99.1.57400\n",
      "23:03:24: Communication module Sock#1: checking main output buffer\n",
      "23:03:24: Communication module Sock#1: found data for 192.168.99.1.57400\n",
      "23:03:24: Communication module Sock#1: connection 192.168.99.1.57400: data sent\n",
      "23:03:24: Communication module Sock#1: connection 192.168.99.1.57400: data sent\n",
      "23:03:25: Communication module Sock#1: recieve_data: input buffer 192.168.99.1.57400 empty\n",
      "23:03:25: Communication module Sock#1: send_data: data to '192.168.99.1.57400' added to main output buffer\n",
      "23:03:25: Communication module Sock#1: send_data: data to '192.168.99.1.57400' added to main output buffer\n",
      "23:03:25: Communication module Sock#1: checking main output buffer\n",
      "23:03:25: Communication module Sock#1: found data for 192.168.99.1.57400\n",
      "23:03:25: Communication module Sock#1: checking main output buffer\n",
      "23:03:25: Communication module Sock#1: found data for 192.168.99.1.57400\n",
      "23:03:25: Communication module Sock#1: connection 192.168.99.1.57400: data sent\n",
      "23:03:25: Communication module Sock#1: connection 192.168.99.1.57400: data sent\n",
      "23:03:26: Communication module Sock#1: recieve_data: input buffer 192.168.99.1.57400 empty\n",
      "23:03:26: Communication module Sock#1: send_data: data to '192.168.99.1.57400' added to main output buffer\n",
      "23:03:26: Communication module Sock#1: send_data: data to '192.168.99.1.57400' added to main output buffer\n",
      "23:03:26: Communication module Sock#1: checking main output buffer\n",
      "23:03:26: Communication module Sock#1: found data for 192.168.99.1.57400\n",
      "23:03:26: Communication module Sock#1: checking main output buffer\n",
      "23:03:26: Communication module Sock#1: found data for 192.168.99.1.57400\n",
      "23:03:26: Communication module Sock#1: connection 192.168.99.1.57400: data sent\n",
      "23:03:26: Communication module Sock#1: connection 192.168.99.1.57400: data sent\n",
      "23:03:27: Communication module Sock#1: recieve_data: input buffer 192.168.99.1.57400 empty\n",
      "23:03:27: Communication module Sock#1: send_data: data to '192.168.99.1.57400' added to main output buffer\n",
      "23:03:27: Communication module Sock#1: send_data: data to '192.168.99.1.57400' added to main output buffer\n",
      "23:03:28: Communication module Sock#1: checking main output buffer\n",
      "23:03:28: Communication module Sock#1: found data for 192.168.99.1.57400\n",
      "23:03:28: Communication module Sock#1: checking main output buffer\n",
      "23:03:28: Communication module Sock#1: found data for 192.168.99.1.57400\n",
      "23:03:28: Communication module Sock#1: connection 192.168.99.1.57400: data sent\n",
      "23:03:28: Communication module Sock#1: connection 192.168.99.1.57400: data sent\n",
      "23:03:28: Communication module Sock#1: recieve_data: input buffer 192.168.99.1.57400 empty\n",
      "23:03:28: Communication module Sock#1: send_data: data to '192.168.99.1.57400' added to main output buffer\n",
      "23:03:28: Communication module Sock#1: send_data: data to '192.168.99.1.57400' added to main output buffer\n",
      "23:03:29: Communication module Sock#1: checking main output buffer\n",
      "23:03:29: Communication module Sock#1: found data for 192.168.99.1.57400\n",
      "23:03:29: Communication module Sock#1: checking main output buffer\n",
      "23:03:29: Communication module Sock#1: found data for 192.168.99.1.57400\n",
      "23:03:29: Communication module Sock#1: connection 192.168.99.1.57400: data sent\n",
      "23:03:29: Communication module Sock#1: connection 192.168.99.1.57400: data sent\n",
      "23:03:29: Communication module Sock#1: recieve_data: input buffer 192.168.99.1.57400 empty\n",
      "23:03:29: Communication module Sock#1: send_data: data to '192.168.99.1.57400' added to main output buffer\n",
      "23:03:29: Communication module Sock#1: send_data: data to '192.168.99.1.57400' added to main output buffer\n",
      "23:03:30: Communication module Sock#1: checking main output buffer\n",
      "23:03:30: Communication module Sock#1: found data for 192.168.99.1.57400\n",
      "23:03:30: Communication module Sock#1: checking main output buffer\n",
      "23:03:30: Communication module Sock#1: found data for 192.168.99.1.57400\n",
      "23:03:30: Communication module Sock#1: connection 192.168.99.1.57400: data sent\n",
      "23:03:30: Communication module Sock#1: connection 192.168.99.1.57400: data sent\n",
      "23:03:30: Communication module Sock#1: recieve_data: input buffer 192.168.99.1.57400 empty\n",
      "23:03:30: Communication module Sock#1: send_data: data to '192.168.99.1.57400' added to main output buffer\n",
      "23:03:30: Communication module Sock#1: send_data: data to '192.168.99.1.57400' added to main output buffer\n",
      "23:03:31: Communication module Sock#1: checking main output buffer\n",
      "23:03:31: Communication module Sock#1: found data for 192.168.99.1.57400\n",
      "23:03:31: Communication module Sock#1: checking main output buffer\n",
      "23:03:31: Communication module Sock#1: found data for 192.168.99.1.57400\n",
      "23:03:31: Communication module Sock#1: connection 192.168.99.1.57400: data sent\n",
      "23:03:31: Communication module Sock#1: connection 192.168.99.1.57400: data sent\n",
      "23:03:31: Communication module Sock#1: recieve_data: input buffer 192.168.99.1.57400 empty\n",
      "23:03:31: Communication module Sock#1: send_data: data to '192.168.99.1.57400' added to main output buffer\n",
      "23:03:31: Communication module Sock#1: send_data: data to '192.168.99.1.57400' added to main output buffer\n",
      "23:03:32: Communication module Sock#1: checking main output buffer\n",
      "23:03:32: Communication module Sock#1: found data for 192.168.99.1.57400\n",
      "23:03:32: Communication module Sock#1: checking main output buffer\n",
      "23:03:32: Communication module Sock#1: found data for 192.168.99.1.57400\n",
      "23:03:32: Communication module Sock#1: connection 192.168.99.1.57400: data sent\n",
      "23:03:32: Communication module Sock#1: connection 192.168.99.1.57400: data sent\n",
      "23:03:32: Communication module Sock#1: recieve_data: input buffer 192.168.99.1.57400 empty\n",
      "23:03:32: Communication module Sock#1: send_data: data to '192.168.99.1.57400' added to main output buffer\n",
      "23:03:32: Communication module Sock#1: send_data: data to '192.168.99.1.57400' added to main output buffer\n",
      "23:03:32: Communication module Sock#1: checking main output buffer\n",
      "23:03:32: Communication module Sock#1: found data for 192.168.99.1.57400\n",
      "23:03:32: Communication module Sock#1: checking main output buffer\n",
      "23:03:32: Communication module Sock#1: found data for 192.168.99.1.57400\n"
     ]
    },
    {
     "name": "stderr",
     "output_type": "stream",
     "text": [
      "23:03:32: Communication module Sock#1: connection 192.168.99.1.57400: data sent\n",
      "23:03:32: Communication module Sock#1: connection 192.168.99.1.57400: data sent\n",
      "23:03:33: Communication module Sock#1: recieve_data: input buffer 192.168.99.1.57400 empty\n",
      "23:03:33: Communication module Sock#1: send_data: data to '192.168.99.1.57400' added to main output buffer\n",
      "23:03:33: Communication module Sock#1: send_data: data to '192.168.99.1.57400' added to main output buffer\n",
      "23:03:33: Communication module Sock#1: checking main output buffer\n",
      "23:03:33: Communication module Sock#1: found data for 192.168.99.1.57400\n",
      "23:03:33: Communication module Sock#1: checking main output buffer\n",
      "23:03:33: Communication module Sock#1: found data for 192.168.99.1.57400\n",
      "23:03:33: Communication module Sock#1: connection 192.168.99.1.57400: data sent\n",
      "23:03:33: Communication module Sock#1: connection 192.168.99.1.57400: data sent\n",
      "23:03:34: Communication module Sock#1: recieve_data: input buffer 192.168.99.1.57400 empty\n",
      "23:03:34: Communication module Sock#1: send_data: data to '192.168.99.1.57400' added to main output buffer\n",
      "23:03:34: Communication module Sock#1: send_data: data to '192.168.99.1.57400' added to main output buffer\n",
      "23:03:34: Communication module Sock#1: checking main output buffer\n",
      "23:03:34: Communication module Sock#1: found data for 192.168.99.1.57400\n",
      "23:03:34: Communication module Sock#1: checking main output buffer\n",
      "23:03:34: Communication module Sock#1: found data for 192.168.99.1.57400\n",
      "23:03:34: Communication module Sock#1: connection 192.168.99.1.57400: data sent\n",
      "23:03:34: Communication module Sock#1: connection 192.168.99.1.57400: data sent\n",
      "23:03:35: Communication module Sock#1: recieve_data: input buffer 192.168.99.1.57400 empty\n",
      "23:03:35: Communication module Sock#1: send_data: data to '192.168.99.1.57400' added to main output buffer\n",
      "23:03:35: Communication module Sock#1: send_data: data to '192.168.99.1.57400' added to main output buffer\n",
      "23:03:36: Communication module Sock#1: checking main output buffer\n",
      "23:03:36: Communication module Sock#1: found data for 192.168.99.1.57400\n",
      "23:03:36: Communication module Sock#1: checking main output buffer\n",
      "23:03:36: Communication module Sock#1: found data for 192.168.99.1.57400\n",
      "23:03:36: Communication module Sock#1: connection 192.168.99.1.57400: data sent\n",
      "23:03:36: Communication module Sock#1: connection 192.168.99.1.57400: data sent\n",
      "23:03:36: Communication module Sock#1: connection 192.168.99.1.57400: data recieved\n",
      "23:03:36: Communication module Sock#1: connection 192.168.99.1.57400: empty message -> XXX disconnecting XXX\n",
      "23:03:36: Communication module Sock#1: closing connection 192.168.99.1.57400\n",
      "23:03:36: Master: Partner '192.168.99.1' has disconnected -> deassigning '192.168.99.1.57400'\n",
      "23:03:40: Communication module Sock#1: stop_communication: trying to stop threading\n",
      "23:03:41: Communication module Sock#1: server stopped\n",
      "23:03:41: Communication module Sock#1: stop_communication: threading stopped\n"
     ]
    }
   ],
   "source": [
    "from mtpbox import *\n",
    "\n",
    "#initialization of logging\n",
    "format = \"%(asctime)s: %(message)s\"\n",
    "logging.basicConfig(format=format, level=logging.DEBUG,datefmt=\"%H:%M:%S\")\n",
    "\n",
    "###################main control loop######################\n",
    "#recieve data from configured partner\n",
    "#analyze/process recieved\n",
    "#send responce data\n",
    "\n",
    "#if we see partners any other partner - close connection\n",
    "partner_plc_address = \"192.168.99.1\"\n",
    "partner_plc2_address = \"192.168.99.2\"\n",
    "\n",
    "#create communication partner table: IP<->Partner IP+Port\n",
    "partner_table = {}\n",
    "\n",
    "#reset partner-port assignment\n",
    "partner_table[partner_plc_address] = None\n",
    "\n",
    "#Master program\n",
    "if __name__ == \"__main__\":\n",
    "    test_loop_number = 20\n",
    "    \n",
    "    #create server and telegrams\n",
    "    comm_module = CommModuleSocketTcp(\"Sock#1\") \n",
    "    comm_module.set_partners_filter([partner_plc_address])\n",
    "    comm_module.start_communication()\n",
    "    \n",
    "    #prepare telegrams\n",
    "    partner_plc_telegram_1 = Telegram(\">i2xi2x1s2x16s2s\",'Telegram1',\"int1 int2 text1 text2 crlf\")\n",
    "    partner_plc_telegram_1.data.int1 = 25\n",
    "    partner_plc_telegram_1.data.int2 = 26\n",
    "    partner_plc_telegram_1.set_string_value(\"text1\",\"!\")\n",
    "    partner_plc_telegram_1.set_string_value(\"text2\",time.strftime(\"Time is %H:%M:%S\"))\n",
    "    partner_plc_telegram_1.set_string_value(\"crlf\",\"\\n\\r\")\n",
    "    \n",
    "    for loop in range(test_loop_number):\n",
    "        \n",
    "        #check if partner table has unnassigned members. It means this IP hasn't connected before.\n",
    "        if any(map(lambda x: x==None, partner_table.values())):\n",
    "            for k,v in partner_table.items():\n",
    "                if not v:\n",
    "                    #check if partner hasn't been connected yet\n",
    "                    #try to find it in comm_partners\n",
    "                    for p in comm_module.partners:\n",
    "                        if re.search(\"^\"+k, p):\n",
    "                            partner_table[k] = p\n",
    "                            logging.info(\"Master: Partner '%s' assigned to '%s'\",k,p)\n",
    "                            break\n",
    "        \n",
    "        #remove unused partners from communication\n",
    "        for p in comm_module.partners:\n",
    "            if p not in partner_table.values():\n",
    "                logging.debug(\"Master: Partner '%s' not used in master program -> removing\",p)\n",
    "                comm_module.remove_partner(p)\n",
    "                \n",
    "        #check if partner disconnected -> deassign connection in partner_table\n",
    "        for k,v in partner_table.items():\n",
    "            if v:\n",
    "                if v not in comm_module.partners:\n",
    "                    partner_table[k] = None\n",
    "                    logging.info(\"Master: Partner '%s' has disconnected -> deassigning '%s'\",k,v)        \n",
    "\n",
    "        #####################################           \n",
    "        ######   Main master logic  #########\n",
    "        #####################################\n",
    "        \n",
    "        #some logic with partners\n",
    "        #run through the partners list\n",
    "        for k,v in partner_table.items():\n",
    "            \n",
    "            #check if is active. If not active we do nothing, but it depends of plan\n",
    "            if v:\n",
    "                \n",
    "                #recive new messages\n",
    "                data_rcv = comm_module.recieve_data(v)\n",
    "                if data_rcv:\n",
    "                    #some logic with recived data\n",
    "                    logging.debug(\"Master: Data recived from %s:%s\",k,data_rcv)\n",
    "                \n",
    "                #update partners telegram #TODO: useful to create Partner class\n",
    "                partner_plc_telegram_1.data.int1 = 25\n",
    "                partner_plc_telegram_1.data.int2 = 26\n",
    "                partner_plc_telegram_1.set_string_value(\"text2\",time.strftime(\"Tim1 is %H:%M:%S\"))\n",
    "                result = comm_module.send_data(partner_plc_telegram_1.telegram_pack(),v)\n",
    "                \n",
    "                partner_plc_telegram_1.set_string_value(\"text2\",time.strftime(\"Tim2 is %H:%M:%S\"))\n",
    "                result = comm_module.send_data(partner_plc_telegram_1.telegram_pack(),v)\n",
    "                #send messages to partners:\n",
    "                \n",
    "                \n",
    "        #####################################           \n",
    "        ######   Main master logic  #########\n",
    "        #####################################\n",
    "\n",
    "            \n",
    "        time.sleep(1)\n",
    "     \n",
    "    #close communication, stop server\n",
    "    comm_module.stop_communication()\n"
   ]
  },
  {
   "cell_type": "code",
   "execution_count": 14,
   "metadata": {},
   "outputs": [
    {
     "name": "stderr",
     "output_type": "stream",
     "text": [
      "20:53:54: Communication module Sock#1: remove_partner: partner '192.168.99.1.56781' removed from communication list\n",
      "20:53:54: Communication module Sock#1: remove_partner: partner '192.168.99.1.56782' removed from communication list\n",
      "20:53:54: Communication module Sock#1: connection 192.168.99.1.56781 is not allowed anymore\n",
      "20:53:54: Communication module Sock#1: connection 192.168.99.1.56782 is not allowed anymore\n",
      "20:53:54: Communication module Sock#1: closing connection 192.168.99.1.56781\n",
      "20:53:54: Communication module Sock#1: closing connection 192.168.99.1.56782\n"
     ]
    }
   ],
   "source": [
    "#comm_module.remove_partner(\"192.168.99.1.56751\")\n",
    "comm_module.remove_partner()"
   ]
  },
  {
   "cell_type": "code",
   "execution_count": 12,
   "metadata": {},
   "outputs": [
    {
     "data": {
      "text/plain": [
       "['192.168.99.1.56778', '192.168.99.1.56779']"
      ]
     },
     "execution_count": 12,
     "metadata": {},
     "output_type": "execute_result"
    }
   ],
   "source": [
    "comm_module.get_partners()"
   ]
  },
  {
   "cell_type": "code",
   "execution_count": 3,
   "metadata": {},
   "outputs": [
    {
     "name": "stderr",
     "output_type": "stream",
     "text": [
      "22:09:24: Communication module Sock#1: stop_communication: trying to stop threading\n",
      "22:09:24: Communication module Sock#1: server stopped\n",
      "22:09:24: Communication module Sock#1: stop_communication: threading stopped\n"
     ]
    }
   ],
   "source": [
    "comm_module.stop_communication()"
   ]
  },
  {
   "cell_type": "code",
   "execution_count": 8,
   "metadata": {},
   "outputs": [
    {
     "name": "stderr",
     "output_type": "stream",
     "text": [
      "WARNING:root:Telegram Telegram1: no communication module set. NOT USED NOW\n"
     ]
    },
    {
     "data": {
      "text/plain": [
       "b'\\x00\\x00\\x00\\x01\\x00\\x00\\x00\\x00\\x00\\x01\\x00\\x00A\\x00\\x00Time is 22:26:21'"
      ]
     },
     "execution_count": 8,
     "metadata": {},
     "output_type": "execute_result"
    }
   ],
   "source": [
    "from mtpbox import *\n",
    "\n",
    "partner_plc_telegram_1 = Telegram(\">i2xi2x1s2x16s\",'Telegram1',\"int1 int2 text1 text2\")\n",
    "\n",
    "partner_plc_telegram_1.telegram_pack()"
   ]
  }
 ],
 "metadata": {
  "kernelspec": {
   "display_name": "Python 3",
   "language": "python",
   "name": "python3"
  },
  "language_info": {
   "codemirror_mode": {
    "name": "ipython",
    "version": 3
   },
   "file_extension": ".py",
   "mimetype": "text/x-python",
   "name": "python",
   "nbconvert_exporter": "python",
   "pygments_lexer": "ipython3",
   "version": "3.6.8"
  }
 },
 "nbformat": 4,
 "nbformat_minor": 2
}
