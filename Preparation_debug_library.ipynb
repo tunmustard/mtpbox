{
 "cells": [
  {
   "cell_type": "markdown",
   "metadata": {},
   "source": [
    "This library is used only for test and debugging within notebook and should not be in solution"
   ]
  },
  {
   "cell_type": "code",
   "execution_count": 2,
   "metadata": {},
   "outputs": [],
   "source": [
    "import matplotlib.pyplot as plt\n",
    "\n",
    "class Debug():\n",
    "    class Image():\n",
    "        def __init__(self,image,label=\"\"):\n",
    "            self.image = image\n",
    "            self.label = label\n",
    "    \n",
    "    def show_images_list(image_list,col_number = 2, height = 6):\n",
    "        row = -(-len(image_list)//col_number) \n",
    "        fig = plt.figure(figsize=(15, row*height))\n",
    "        count = 1\n",
    "        for img in image_list:\n",
    "            a = fig.add_subplot(row , col_number, count)\n",
    "            if img.label:\n",
    "                a.set_title(img.label)\n",
    "            plt.imshow(img.image) \n",
    "            count=count+1\n",
    "\n",
    "#Example: debug_img_list.append(Debug.Image(img,\"label\"))\n",
    "#Example: Debug.show_images_list(debug_img_list, col_number = 3, height = 5)"
   ]
  },
  {
   "cell_type": "code",
   "execution_count": null,
   "metadata": {},
   "outputs": [],
   "source": []
  }
 ],
 "metadata": {
  "kernelspec": {
   "display_name": "Python 3",
   "language": "python",
   "name": "python3"
  },
  "language_info": {
   "codemirror_mode": {
    "name": "ipython",
    "version": 3
   },
   "file_extension": ".py",
   "mimetype": "text/x-python",
   "name": "python",
   "nbconvert_exporter": "python",
   "pygments_lexer": "ipython3",
   "version": "3.6.8"
  }
 },
 "nbformat": 4,
 "nbformat_minor": 2
}
