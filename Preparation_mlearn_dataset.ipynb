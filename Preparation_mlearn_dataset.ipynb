{
 "cells": [
  {
   "cell_type": "code",
   "execution_count": 1,
   "metadata": {},
   "outputs": [],
   "source": [
    "#import face_recognition  #not used in this project yet\n",
    "import cv2\n",
    "import matplotlib.pyplot as plt\n",
    "import numpy as np\n",
    "from PIL import Image, ImageDraw\n",
    "import pandas as pd\n",
    "import os\n",
    "import csv\n",
    "import numpy as np\n",
    "import random as rd\n",
    "\n",
    "import time\n",
    "import threading\n",
    "\n",
    "from fastai.vision import *\n",
    "from fastai.metrics import error_rate"
   ]
  },
  {
   "cell_type": "code",
   "execution_count": 14,
   "metadata": {},
   "outputs": [],
   "source": []
  },
  {
   "cell_type": "code",
   "execution_count": 33,
   "metadata": {},
   "outputs": [
    {
     "data": {
      "image/png": "[encoded data removed]",
      "text/plain": [
       "<Figure size 864x432 with 8 Axes>"
      ]
     },
     "metadata": {
      "needs_background": "light"
     },
     "output_type": "display_data"
    }
   ],
   "source": [
    "tfms = zoom_crop(scale=(1), do_rand=True,p=1)\n",
    "\n",
    "def get_ex(): return open_image('./data/numdet/numdet_preparation/img_background/test_ladlecar_1.jpg')\n",
    "\n",
    "#def plots_f(rows, cols, width, height, **kwargs):\n",
    "    [get_ex().apply_tfms(tfms[0], **kwargs).show(ax=ax) for i,ax in enumerate(plt.subplots(\n",
    "        rows,cols,figsize=(width,height))[1].flatten())]\n",
    "    \n",
    "#plots_f(2, 4, 12, 6, size=26)\n",
    "\n"
   ]
  },
  {
   "cell_type": "code",
   "execution_count": null,
   "metadata": {},
   "outputs": [],
   "source": []
  },
  {
   "cell_type": "code",
   "execution_count": 114,
   "metadata": {},
   "outputs": [],
   "source": [
    "rd.seed(17)\n",
    "\n",
    "#preparation of list of number-images:\n",
    "path_num_all = Path(\"./data/mnist/mnist_png\")\n",
    "\n",
    "#background pictures\n",
    "path_bg_source = Path(\"./data/numdet/numdet_preparation/img_bg_source\")\n",
    "path_bg_out = Path(\"./data/numdet/numdet_preparation/img_bg_out\")\n",
    "\n",
    "#output\n",
    "path_mix_all = Path(\"./data/numdet/numdet_png/all\")\n",
    "path_mix_train = Path(\"./data/numdet/numdet_png/training\")\n",
    "path_mix_test = Path(\"./data/numdet/numdet_png/testing\")\n",
    "\n",
    "#path_files = [x for x in path_num_train.iterdir() if x.is_dir()]\n",
    "path_files_num_all = list(path_num_all.glob('**/*.png'))\n",
    "\n",
    "#list of all path of all num images\n",
    "path_files_bg_all = list(path_bg_source.glob('**/*.*'))\n",
    "\n",
    "tfms_bg = get_transforms()\n",
    "\n",
    "def get_bg_slices (file_path,win_width,win_height,reduce=1,**kwargs):\n",
    "    rows, cols, width, height = 2,4,20,10\n",
    "    \n",
    "    bg_img = open_image(file_path)\n",
    "    bg_img = bg_img.apply_tfms(tfms_bg[0])\n",
    "    h0,w0 = int(bg_img.size[0]//reduce),int(bg_img.size[1]//reduce)\n",
    "    bg_img = bg_img.resize((3,h0,w0))\n",
    "    k_w = w0//win_width\n",
    "    k_h = h0//win_height\n",
    "    out_imgs=[]\n",
    "    for i_w in range(k_w):\n",
    "        for i_h in range(k_h):\n",
    "             out_imgs.append(Image(bg_img.data[:,i_h*win_height:i_h*win_height + win_height,i_w*win_width:i_w*win_width + win_width]))\n",
    "    return ImageList(out_imgs)\n",
    "\n",
    "\n",
    "#out_bg_imgs = get_bg_slices(path_files_bg_all[1],28,28,reduce=1)\n",
    "\n",
    "\n",
    "\n",
    "#tfms = #get_transforms(max_rotate=25)\n",
    "tfms_num = [rand_resize_crop(30,ratios=(1,3))]\n",
    "#tfms= [crop_pad(row_pct = 0.0, col_pct = 0.1),rotate(degrees=30, p=0.5)]\n",
    "\n",
    "def get_num_image(file_path):\n",
    "    out_img = open_image(file_path)\n",
    "    return out_img.apply_tfms(tfms_num[0],size = 28)\n",
    "\n",
    "def plots_f(rows, cols, width, height, **kwargs):\n",
    "    [num_img.apply_tfms(tfms[0], **kwargs).show(ax=ax) for i,ax in enumerate(plt.subplots(rows,cols,figsize=(width,height))[1].flatten())]\n",
    "\n",
    "def get_merged_image(img_num,img_bg):\n",
    "    \n",
    "    out_tensor = (img_num.data*0.7) + img_bg.data\n",
    "    return Image(np.clip(out_tensor, 0, 1))\n",
    "    \n",
    "    \n",
    "#plots_f(2, 4, 12, 6, size=28 )\n",
    "\n",
    "\n",
    "    \n",
    "def make_mix_num_bg (count,save_dir, proportion=0.5):\n",
    "    #num_img_trsf\n",
    "    out_img_counter = 0\n",
    "    num_index = 0\n",
    "    bg_index = 0\n",
    "    for bg_i in path_files_bg_all:\n",
    "        out_bg_imgs = get_bg_slices(bg_i,28,28,reduce=1)\n",
    "        bg_len = len(out_bg_imgs.items)\n",
    "        for i in out_bg_imgs.items:\n",
    "            if num_index<len(path_files_num_all):\n",
    "                num_img_trsf = get_num_image(path_files_num_all[num_index])\n",
    "                num_label = path_files_num_all[num_index].parent.name\n",
    "                if rd.random()>proportion:\n",
    "                    merged_image = get_merged_image(num_img_trsf,i)\n",
    "                    file_name = \"1/mix_%s_%s.jpg\"%(num_label,out_img_counter)\n",
    "                    merged_image.save(save_dir/file_name)\n",
    "                else:\n",
    "                    merged_image = i\n",
    "                    file_name = \"0/!mix_no_%s.jpg\"%(out_img_counter)\n",
    "                    merged_image.save(save_dir/file_name)\n",
    "                num_index = num_index + 1\n",
    "                out_img_counter = out_img_counter + 1\n",
    "            else:\n",
    "                num_index = 0\n",
    "                \n",
    "            if out_img_counter>=count:\n",
    "                break    \n",
    "        if out_img_counter>=count:\n",
    "            break\n",
    "    \n",
    "    \n",
    "make_mix_num_bg(70000,path_mix_all,proportion = 0.5)"
   ]
  },
  {
   "cell_type": "code",
   "execution_count": 105,
   "metadata": {},
   "outputs": [
    {
     "data": {
      "text/plain": [
       "0"
      ]
     },
     "execution_count": 105,
     "metadata": {},
     "output_type": "execute_result"
    }
   ],
   "source": []
  },
  {
   "cell_type": "code",
   "execution_count": 110,
   "metadata": {},
   "outputs": [
    {
     "data": {
      "text/plain": [
       "70000"
      ]
     },
     "execution_count": 110,
     "metadata": {},
     "output_type": "execute_result"
    }
   ],
   "source": [
    "rd.random()\n",
    "len(path_files_num_all)"
   ]
  },
  {
   "cell_type": "code",
   "execution_count": 220,
   "metadata": {},
   "outputs": [],
   "source": [
    "from bs4 import BeautifulSoup\n",
    "import requests\n",
    "import re\n",
    "from urllib.request import urlopen\n",
    "import urllib.request\n",
    "import urllib\n",
    "from PIL import Image\n",
    "\n",
    "import os\n",
    "import argparse\n",
    "import sys\n",
    "import json\n",
    "import shutil"
   ]
  },
  {
   "cell_type": "code",
   "execution_count": 256,
   "metadata": {},
   "outputs": [
    {
     "name": "stdout",
     "output_type": "stream",
     "text": [
      "could not load : http://%D0%B2%D1%80%D0%B5%D0%BC%D1%8F%D1%80%D0%BE%D1%81%D1%81%D0%B8%D0%B8.%D1%80%D1%84/sites/default/files/styles/big_colorbox/public/node/2916/smrk7116.jpg?itok=l-iJXh-0\n",
      "encoding with 'idna' codec failed (UnicodeError: label empty or too long)\n",
      "could not load : x-raw-image:///66802010a0cfb5879570a881e7357cf6c13075932456cb3ddc2c2d96f782ec69\n",
      "No connection adapters were found for 'x-raw-image:///66802010a0cfb5879570a881e7357cf6c13075932456cb3ddc2c2d96f782ec69'\n"
     ]
    }
   ],
   "source": [
    "def get_soup(url,header):\n",
    "    return BeautifulSoup(urlopen(urllib.request.Request(url,headers=header)),'html.parser')\n",
    "\n",
    "def main():\n",
    "    parser = argparse.ArgumentParser(description='Scrape Google images')\n",
    "    parser.add_argument('-s', '--search', default='bananas', type=str, help='search term')\n",
    "    parser.add_argument('-n', '--num_images', default=10, type=int, help='num images to save')\n",
    "    parser.add_argument('-d', '--directory', default='/Users/gene/Downloads/', type=str, help='save directory')\n",
    "    query = 'bananas'\n",
    "    max_images = 100\n",
    "    save_directory = \"./data/numdet/numdet_preparation/img_bg_source/\"\n",
    "    image_type=\"Action\"\n",
    "    query= query.split()\n",
    "    query='+'.join(query)\n",
    "    #url=\"https://www.google.co.in/search?q=\"+query+\"&source=lnms&tbm=isch\"\n",
    "    #url=\"https://www.google.com/search?q=%D1%81%D1%82%D0%B0%D0%BB%D0%B5%D0%B2%D0%BE%D0%B7&newwindow=1&tbm=isch&source=lnt&tbs=ic:specific,isc:brown\"\n",
    "    url=\"https://www.google.com/search?newwindow=1&biw=1473&bih=790&tbs=ic%3Aspecific%2Cisc%3Abrown%2Cisz%3Al&tbm=isch&sa=1&ei=_FhgXYLvNMO45OUPvb2PuAE&q=%D0%B7%D0%B0%D0%B2%D0%BE%D0%B4%D1%81%D0%BA%D0%BE%D0%B9+%D1%86%D0%B5%D1%85&oq=%D0%B7%D0%B0%D0%B2%D0%BE%D0%B4%D1%81%D0%BA%D0%BE%D0%B9+%D1%86%D0%B5%D1%85\"\n",
    "    #url=\"https://www.google.com/search?newwindow=1&biw=1473&bih=790&tbs=ic%3Aspecific%2Cisc%3Abrown&tbm=isch&source=hp&biw=&bih=&ei=0lJgXcPFM-ek5OUP5IuK6AY&q=%D1%86%D0%B5%D1%85&oq=%D1%86%D0%B5%D1%85&\"\n",
    "    header={'User-Agent':\"Mozilla/5.0 (Windows NT 6.1; WOW64) AppleWebKit/537.36 (KHTML, like Gecko) Chrome/43.0.2357.134 Safari/537.36\"}\n",
    "    soup = get_soup(url,header)\n",
    "    ActualImages=[]# contains the link for Large original images, type of  image\n",
    "    for a in soup.find_all(\"div\",{\"class\":\"rg_meta\"}):\n",
    "        link , Type =json.loads(a.text)[\"ou\"]  ,json.loads(a.text)[\"ity\"]\n",
    "        ActualImages.append((link,Type))\n",
    "    for i , (img , Type) in enumerate( ActualImages[0:max_images]):\n",
    "        try:\n",
    "            #req = urllib.request.Request(img, headers={'User-Agent' : header})\n",
    "            req = requests.get(img,stream=True, headers=header)\n",
    "            if len(Type)==0:\n",
    "                #f = open(os.path.join(save_directory , \"img\" + \"_\"+ str(i)+\".jpg\"), 'wb')\n",
    "                #req = requests.get(img_url,stream=True, headers=header)\n",
    "                with open(os.path.join(save_directory , \"img\" + \"_\"+ str(i)+\".jpg\"), 'wb') as out_file:\n",
    "                    shutil.copyfileobj(req.raw, out_file)\n",
    "            else :\n",
    "                #f = open(os.path.join(save_directory , \"img\" + \"_\"+ str(i)+\".\"+Type), 'wb')\n",
    "                with open(os.path.join(save_directory , \"img\" + \"_\"+ str(i)+\".\"+Type), 'wb') as out_file:\n",
    "                    shutil.copyfileobj(req.raw, out_file)\n",
    "            #f.write(raw_img)\n",
    "            #f.close()\n",
    "        except Exception as e:\n",
    "            print(\"could not load : \"+img)\n",
    "            print(e)\n",
    "            \n",
    "            \n",
    "##usage: python scrapeImages.py --search \"cat\" --num_images 10 --directory \"/Users/gene/Downloads\"\n",
    "main()"
   ]
  },
  {
   "cell_type": "code",
   "execution_count": null,
   "metadata": {},
   "outputs": [],
   "source": []
  },
  {
   "cell_type": "code",
   "execution_count": 247,
   "metadata": {},
   "outputs": [],
   "source": [
    "\n",
    "\n",
    "\n"
   ]
  }
 ],
 "metadata": {
  "kernelspec": {
   "display_name": "Python 3",
   "language": "python",
   "name": "python3"
  },
  "language_info": {
   "codemirror_mode": {
    "name": "ipython",
    "version": 3
   },
   "file_extension": ".py",
   "mimetype": "text/x-python",
   "name": "python",
   "nbconvert_exporter": "python",
   "pygments_lexer": "ipython3",
   "version": "3.6.8"
  }
 },
 "nbformat": 4,
 "nbformat_minor": 2
}
